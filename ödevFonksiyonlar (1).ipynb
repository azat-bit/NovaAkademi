{
 "cells": [
  {
   "cell_type": "code",
   "execution_count": 1,
   "id": "d9de542c-b4b4-4eea-b1e0-88b5c246ce0b",
   "metadata": {},
   "outputs": [
    {
     "name": "stdout",
     "output_type": "stream",
     "text": [
      "Öğrenci: Ayşe, Not: 85\n",
      "Öğrenci: Ali, Not: 92\n",
      "Öğrenci: Veli, Not: 78\n",
      "En yüksek notu alan öğrenci: Ali, Not: 92\n",
      "Öğrenci: Ayşe, Not: 88\n",
      "Öğrenci: Ali, Not: 92\n",
      "En yüksek notu alan öğrenci: Ali, Not: 92\n"
     ]
    }
   ],
   "source": [
    "# Boş bir liste ile başla\n",
    "ogrenci_notlari = []\n",
    "\n",
    "def ogrenci_ekle(ogrenci_adı, notu):\n",
    "    ogrenci_notlari.append({\"ad\": ogrenci_adı, \"not\": notu})\n",
    "\n",
    "def not_guncelle(ogrenci_adı, yeni_not):\n",
    "    for ogrenci in ogrenci_notlari:\n",
    "        if ogrenci[\"ad\"] == ogrenci_adı:\n",
    "            ogrenci[\"not\"] = yeni_not\n",
    "            return\n",
    "    print(f\"{ogrenci_adı} bulunamadı.\")\n",
    "\n",
    "def not_sil(ogrenci_adı):\n",
    "    global ogrenci_notlari\n",
    "    ogrenci_notlari = [ogrenci for ogrenci in ogrenci_notlari if ogrenci[\"ad\"] != ogrenci_adı]\n",
    "\n",
    "def notlari_goruntule():\n",
    "    for ogrenci in ogrenci_notlari:\n",
    "        print(f\"Öğrenci: {ogrenci['ad']}, Not: {ogrenci['not']}\")\n",
    "\n",
    "def en_yuksek_not():\n",
    "    if not ogrenci_notlari:\n",
    "        print(\"Liste boş.\")\n",
    "        return\n",
    "    en_yuksek = max(ogrenci_notlari, key=lambda x: x[\"not\"])\n",
    "    print(f\"En yüksek notu alan öğrenci: {en_yuksek['ad']}, Not: {en_yuksek['not']}\")\n",
    "\n",
    "# Örnek kullanımlar\n",
    "ogrenci_ekle(\"Ayşe\", 85)\n",
    "ogrenci_ekle(\"Ali\", 92)\n",
    "ogrenci_ekle(\"Veli\", 78)\n",
    "\n",
    "notlari_goruntule()\n",
    "en_yuksek_not()\n",
    "\n",
    "not_guncelle(\"Ayşe\", 88)\n",
    "not_sil(\"Veli\")\n",
    "\n",
    "notlari_goruntule()\n",
    "en_yuksek_not()\n"
   ]
  },
  {
   "cell_type": "code",
   "execution_count": 3,
   "id": "055f30de-fabb-489a-84e4-0612a1d78008",
   "metadata": {},
   "outputs": [
    {
     "name": "stdout",
     "output_type": "stream",
     "text": [
      "Ürün: Elma, Miktar: 4, Fiyat: 3.5\n",
      "Ürün: Süt, Miktar: 2, Fiyat: 5.0\n",
      "Ürün: Ekmek, Miktar: 1, Fiyat: 2.0\n",
      "Toplam Maliyet: 26.0\n",
      "Ürün: Elma, Miktar: 6, Fiyat: 3.0\n",
      "Ürün: Ekmek, Miktar: 1, Fiyat: 2.0\n",
      "Toplam Maliyet: 20.0\n"
     ]
    }
   ],
   "source": [
    "# Boş bir liste ile başla\n",
    "alisveris_listesi = []\n",
    "\n",
    "def urun_ekle(urun_adı, miktar, fiyat):\n",
    "    alisveris_listesi.append({\"urun\": urun_adı, \"miktar\": miktar, \"fiyat\": fiyat})\n",
    "\n",
    "def urun_guncelle(urun_adı, yeni_miktar=None, yeni_fiyat=None):\n",
    "    for urun in alisveris_listesi:\n",
    "        if urun[\"urun\"] == urun_adı:\n",
    "            if yeni_miktar is not None:\n",
    "                urun[\"miktar\"] = yeni_miktar\n",
    "            if yeni_fiyat is not None:\n",
    "                urun[\"fiyat\"] = yeni_fiyat\n",
    "            return\n",
    "    print(f\"{urun_adı} bulunamadı.\")\n",
    "\n",
    "def urun_sil(urun_adı):\n",
    "    global alisveris_listesi\n",
    "    alisveris_listesi = [urun for urun in alisveris_listesi if urun[\"urun\"] != urun_adı]\n",
    "\n",
    "def listeyi_goruntule():\n",
    "    if not alisveris_listesi:\n",
    "        print(\"Alışveriş listesi boş.\")\n",
    "        return\n",
    "    for urun in alisveris_listesi:\n",
    "        print(f\"Ürün: {urun['urun']}, Miktar: {urun['miktar']}, Fiyat: {urun['fiyat']}\")\n",
    "\n",
    "def toplam_maliyet():\n",
    "    toplam = sum(urun[\"miktar\"] * urun[\"fiyat\"] for urun in alisveris_listesi)\n",
    "    print(f\"Toplam Maliyet: {toplam}\")\n",
    "\n",
    "# Örnek kullanımlar\n",
    "urun_ekle(\"Elma\", 4, 3.5)\n",
    "urun_ekle(\"Süt\", 2, 5.0)\n",
    "urun_ekle(\"Ekmek\", 1, 2.0)\n",
    "\n",
    "listeyi_goruntule()\n",
    "toplam_maliyet()\n",
    "\n",
    "urun_guncelle(\"Elma\", yeni_miktar=6, yeni_fiyat=3.0)\n",
    "urun_sil(\"Süt\")\n",
    "\n",
    "listeyi_goruntule()\n",
    "toplam_maliyet()\n"
   ]
  },
  {
   "cell_type": "code",
   "execution_count": 5,
   "id": "ebe89639-b911-4dda-9109-770c98d76756",
   "metadata": {},
   "outputs": [
    {
     "name": "stdin",
     "output_type": "stream",
     "text": [
      "Kullanıcı adınızı girin:  ali\n",
      "Şifrenizi girin:  1234\n"
     ]
    },
    {
     "name": "stdout",
     "output_type": "stream",
     "text": [
      "\n",
      "1. Bakiye Görüntüle\n",
      "2. Para Çek\n",
      "3. Para Yatır\n",
      "4. Şifre Değiştir\n",
      "5. Çıkış Yap\n"
     ]
    },
    {
     "name": "stdin",
     "output_type": "stream",
     "text": [
      "Yapmak istediğiniz işlemi seçin (1/2/3/4/5):  1\n"
     ]
    },
    {
     "name": "stdout",
     "output_type": "stream",
     "text": [
      "Mevcut bakiye: 1000\n",
      "\n",
      "1. Bakiye Görüntüle\n",
      "2. Para Çek\n",
      "3. Para Yatır\n",
      "4. Şifre Değiştir\n",
      "5. Çıkış Yap\n"
     ]
    },
    {
     "name": "stdin",
     "output_type": "stream",
     "text": [
      "Yapmak istediğiniz işlemi seçin (1/2/3/4/5):  5\n"
     ]
    },
    {
     "name": "stdout",
     "output_type": "stream",
     "text": [
      "Çıkış yapıldı. Hoşça kal!\n"
     ]
    }
   ],
   "source": [
    "# Kullanıcı hesap bilgilerini saklamak için listeler\n",
    "kullanici_adlari = [\"ali\", \"ayse\"]\n",
    "kullanici_sifreleri = [\"1234\", \"5678\"]\n",
    "kullanici_bakiyeleri = [1000, 1500]\n",
    "\n",
    "def kullanici_indeksini_bul(kullanici_adı):\n",
    "    if kullanici_adı in kullanici_adlari:\n",
    "        return kullanici_adlari.index(kullanici_adı)\n",
    "    return None\n",
    "\n",
    "def bakiye_goruntule(kullanici_indeksi):\n",
    "    if kullanici_indeksi is not None:\n",
    "        print(f\"Mevcut bakiye: {kullanici_bakiyeleri[kullanici_indeksi]}\")\n",
    "    else:\n",
    "        print(\"Kullanıcı bulunamadı.\")\n",
    "\n",
    "def para_cek(kullanici_indeksi, miktar):\n",
    "    if kullanici_indeksi is not None:\n",
    "        if kullanici_bakiyeleri[kullanici_indeksi] >= miktar:\n",
    "            kullanici_bakiyeleri[kullanici_indeksi] -= miktar\n",
    "            print(f\"{miktar} TL çekildi. Yeni bakiye: {kullanici_bakiyeleri[kullanici_indeksi]}\")\n",
    "        else:\n",
    "            print(\"Yetersiz bakiye.\")\n",
    "    else:\n",
    "        print(\"Kullanıcı bulunamadı.\")\n",
    "\n",
    "def para_yatir(kullanici_indeksi, miktar):\n",
    "    if kullanici_indeksi is not None:\n",
    "        kullanici_bakiyeleri[kullanici_indeksi] += miktar\n",
    "        print(f\"{miktar} TL yatırıldı. Yeni bakiye: {kullanici_bakiyeleri[kullanici_indeksi]}\")\n",
    "    else:\n",
    "        print(\"Kullanıcı bulunamadı.\")\n",
    "\n",
    "def sifre_degistir(kullanici_indeksi, eski_sifre, yeni_sifre):\n",
    "    if kullanici_indeksi is not None:\n",
    "        if kullanici_sifreleri[kullanici_indeksi] == eski_sifre:\n",
    "            kullanici_sifreleri[kullanici_indeksi] = yeni_sifre\n",
    "            print(\"Şifre başarıyla değiştirildi.\")\n",
    "        else:\n",
    "            print(\"Eski şifre yanlış.\")\n",
    "    else:\n",
    "        print(\"Kullanıcı bulunamadı.\")\n",
    "\n",
    "def cikis_yap():\n",
    "    print(\"Çıkış yapıldı. Hoşça kal!\")\n",
    "\n",
    "# Kullanıcıdan giriş bilgilerini al\n",
    "def giris_yap():\n",
    "    kullanici_adı = input(\"Kullanıcı adınızı girin: \")\n",
    "    giris_sifre = input(\"Şifrenizi girin: \")\n",
    "\n",
    "    kullanici_indeksi = kullanici_indeksini_bul(kullanici_adı)\n",
    "\n",
    "    if kullanici_indeksi is not None and kullanici_sifreleri[kullanici_indeksi] == giris_sifre:\n",
    "        return kullanici_indeksi\n",
    "    else:\n",
    "        print(\"Giriş bilgileri yanlış.\")\n",
    "        return None\n",
    "\n",
    "# Ana program döngüsü\n",
    "def atm_uygulamasi():\n",
    "    kullanici_indeksi = giris_yap()\n",
    "    \n",
    "    if kullanici_indeksi is None:\n",
    "        return\n",
    "    \n",
    "    while True:\n",
    "        print(\"\\n1. Bakiye Görüntüle\")\n",
    "        print(\"2. Para Çek\")\n",
    "        print(\"3. Para Yatır\")\n",
    "        print(\"4. Şifre Değiştir\")\n",
    "        print(\"5. Çıkış Yap\")\n",
    "        \n",
    "        secim = input(\"Yapmak istediğiniz işlemi seçin (1/2/3/4/5): \")\n",
    "\n",
    "        if secim == \"1\":\n",
    "            bakiye_goruntule(kullanici_indeksi)\n",
    "        elif secim == \"2\":\n",
    "            miktar = float(input(\"Çekmek istediğiniz miktarı girin: \"))\n",
    "            para_cek(kullanici_indeksi, miktar)\n",
    "        elif secim == \"3\":\n",
    "            miktar = float(input(\"Yatırmak istediğiniz miktarı girin: \"))\n",
    "            para_yatir(kullanici_indeksi, miktar)\n",
    "        elif secim == \"4\":\n",
    "            eski_sifre = input(\"Eski şifrenizi girin: \")\n",
    "            yeni_sifre = input(\"Yeni şifrenizi girin: \")\n",
    "            sifre_degistir(kullanici_indeksi, eski_sifre, yeni_sifre)\n",
    "        elif secim == \"5\":\n",
    "            cikis_yap()\n",
    "            break\n",
    "        else:\n",
    "            print(\"Geçersiz seçenek, lütfen tekrar deneyin.\")\n",
    "\n",
    "# Programı başlat\n",
    "atm_uygulamasi()\n"
   ]
  },
  {
   "cell_type": "code",
   "execution_count": null,
   "id": "17a827e9-ef9b-4f0b-a790-32b5ffad6151",
   "metadata": {},
   "outputs": [],
   "source": []
  }
 ],
 "metadata": {
  "kernelspec": {
   "display_name": "Python 3 (ipykernel)",
   "language": "python",
   "name": "python3"
  },
  "language_info": {
   "codemirror_mode": {
    "name": "ipython",
    "version": 3
   },
   "file_extension": ".py",
   "mimetype": "text/x-python",
   "name": "python",
   "nbconvert_exporter": "python",
   "pygments_lexer": "ipython3",
   "version": "3.12.4"
  }
 },
 "nbformat": 4,
 "nbformat_minor": 5
}
