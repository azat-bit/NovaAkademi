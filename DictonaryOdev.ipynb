{
 "cells": [
  {
   "cell_type": "code",
   "execution_count": 1,
   "id": "e0d216df-f54d-4dac-bca1-a80d5c68dab1",
   "metadata": {},
   "outputs": [
    {
     "name": "stdout",
     "output_type": "stream",
     "text": [
      "Ali eklenmiştir.\n",
      "Ali: {'Age': 30, 'Email': 'ali@example.com', 'Phone': '1234567890'}\n",
      "Ali güncellenmiştir.\n",
      "Ali: {'Age': 30, 'Email': 'ali@example.com', 'Phone': '0987654321'}\n",
      "Ali silinmiştir.\n",
      "Ali bulunamadı.\n"
     ]
    }
   ],
   "source": [
    "# Kullanıcı verilerini saklamak için bir sözlük oluşturuyoruz\n",
    "users = {}\n",
    "\n",
    "def add_user(name, age, email, phone):\n",
    "    users[name] = {\n",
    "        'Age': age,\n",
    "        'Email': email,\n",
    "        'Phone': phone\n",
    "    }\n",
    "    print(f\"{name} eklenmiştir.\")\n",
    "\n",
    "def update_user(name, age=None, email=None, phone=None):\n",
    "    if name in users:\n",
    "        if age is not None:\n",
    "            users[name]['Age'] = age\n",
    "        if email is not None:\n",
    "            users[name]['Email'] = email\n",
    "        if phone is not None:\n",
    "            users[name]['Phone'] = phone\n",
    "        print(f\"{name} güncellenmiştir.\")\n",
    "    else:\n",
    "        print(f\"{name} bulunamadı.\")\n",
    "\n",
    "def delete_user(name):\n",
    "    if name in users:\n",
    "        del users[name]\n",
    "        print(f\"{name} silinmiştir.\")\n",
    "    else:\n",
    "        print(f\"{name} bulunamadı.\")\n",
    "\n",
    "def view_user(name):\n",
    "    if name in users:\n",
    "        print(f\"{name}: {users[name]}\")\n",
    "    else:\n",
    "        print(f\"{name} bulunamadı.\")\n",
    "\n",
    "# Örnek Kullanım\n",
    "add_user('Ali', 30, 'ali@example.com', '1234567890')\n",
    "view_user('Ali')\n",
    "update_user('Ali', phone='0987654321')\n",
    "view_user('Ali')\n",
    "delete_user('Ali')\n",
    "view_user('Ali')\n"
   ]
  },
  {
   "cell_type": "code",
   "execution_count": null,
   "id": "e8bd27c0-da2f-4ebc-a71f-ea0fd959baed",
   "metadata": {},
   "outputs": [],
   "source": []
  }
 ],
 "metadata": {
  "kernelspec": {
   "display_name": "Python 3 (ipykernel)",
   "language": "python",
   "name": "python3"
  },
  "language_info": {
   "codemirror_mode": {
    "name": "ipython",
    "version": 3
   },
   "file_extension": ".py",
   "mimetype": "text/x-python",
   "name": "python",
   "nbconvert_exporter": "python",
   "pygments_lexer": "ipython3",
   "version": "3.12.4"
  }
 },
 "nbformat": 4,
 "nbformat_minor": 5
}
