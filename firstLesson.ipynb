{
 "cells": [
  {
   "cell_type": "code",
   "execution_count": 20,
   "id": "14510d22-bbf4-4118-b2c2-764a64dcb3b2",
   "metadata": {},
   "outputs": [],
   "source": [
    "class people:\n",
    "      kisi_sayisi = 0\n",
    "      def __init__(self,adi,soyadi,yas,kilo) -> None:\n",
    "            self.adi = adi\n",
    "            self.soyadi = soyadi\n",
    "            self.yas = yas\n",
    "            self.kilo = kilo\n",
    "            people.kisi_sayisi +=1\n",
    "      def yurumek(self):\n",
    "            print(\"yürüyor\")\n",
    "      def kosmak(self):\n",
    "            print(\"koşuyor\")\n",
    "      def duruyor(self):\n",
    "            print(\"duruyor\")"
   ]
  },
  {
   "cell_type": "code",
   "execution_count": 22,
   "id": "99ff4c31-b069-4446-a620-a84cab342d96",
   "metadata": {},
   "outputs": [],
   "source": [
    "azat = people(\"azat\",\"titiz\",25,65)"
   ]
  },
  {
   "cell_type": "code",
   "execution_count": 24,
   "id": "8a02f654-dfa6-4628-ba7f-ff0f52a918cf",
   "metadata": {},
   "outputs": [
    {
     "name": "stdout",
     "output_type": "stream",
     "text": [
      "yürüyor\n",
      "koşuyor\n"
     ]
    }
   ],
   "source": [
    "azat.yurumek()\n",
    "azat.kosmak()"
   ]
  },
  {
   "cell_type": "code",
   "execution_count": 67,
   "id": "bff41e32-6c68-4765-82d9-07dce89a246e",
   "metadata": {},
   "outputs": [
    {
     "name": "stdout",
     "output_type": "stream",
     "text": [
      "Maaşı artırıldı. Yeni maaş: 1500\n",
      "Azat None\n"
     ]
    }
   ],
   "source": [
    "class Employed:\n",
    "\n",
    "    def __init__(self, adi, soyadi, departmant, salary):\n",
    "        self.adi = adi\n",
    "        self.soyadi = soyadi\n",
    "        self.departmant = departmant\n",
    "        self.salary = salary\n",
    "\n",
    "    def aktif(self):\n",
    "        print(\"Çalışıyor\")\n",
    "\n",
    "    def kovuldu(self):\n",
    "        print(\"Kovuldu\")\n",
    "\n",
    "    def cokCalısıyor(self):\n",
    "        self.salary += 500\n",
    "        print(f\"Maaşı artırıldı. Yeni maaş: {self.salary}\")\n",
    "\n",
    "# Personel örnekleri oluşturalım\n",
    "personel1 = Employed(\"Azat\", \"Titiz\", \"Software\", 1000)\n",
    "personel2 = Employed(\"Mehmet\", \"Can\", \"Software\", 1000)\n",
    "\n",
    "# Maaşı artırma metodunu çağıralım\n",
    "print(f\"{personel1.adi} {personel1.cokCalısıyor()}\")\n"
   ]
  },
  {
   "cell_type": "code",
   "execution_count": 71,
   "id": "039f8d59-8502-4f2d-9f49-dc15dbc25c9c",
   "metadata": {},
   "outputs": [
    {
     "name": "stdout",
     "output_type": "stream",
     "text": [
      "Toplam kitap sayısı: 2\n",
      "Toplam kitap sayısı: 1\n"
     ]
    }
   ],
   "source": [
    "class Kutuphane:\n",
    "    kitapSayisi = 0\n",
    "\n",
    "    def __init__(self, adi, yazar, sayfaSayisi):\n",
    "        self.adi = adi\n",
    "        self.yazar = yazar\n",
    "        self.sayfaSayisi = sayfaSayisi\n",
    "        Kutuphane.kitapSayisi += 1\n",
    "\n",
    "    def ekle(self):\n",
    "        Kutuphane.kitapSayisi += 1\n",
    "        return Kutuphane.kitapSayisi\n",
    "\n",
    "    def cikar(self):\n",
    "        if Kutuphane.kitapSayisi > 0:\n",
    "            Kutuphane.kitapSayisi -= 1\n",
    "        return Kutuphane.kitapSayisi\n",
    "\n",
    "# Kütüphane örneği oluşturalım\n",
    "kutuphane = Kutuphane(\"Python Programlama\", \"Guido van Rossum\", 350)\n",
    "\n",
    "# Kitap ekleyelim\n",
    "kutuphane.ekle()\n",
    "print(\"Toplam kitap sayısı:\", kutuphane.kitapSayisi)\n",
    "\n",
    "# Kitap çıkaralım\n",
    "kutuphane.cikar()\n",
    "print(\"Toplam kitap sayısı:\", kutuphane.kitapSayisi)\n"
   ]
  },
  {
   "cell_type": "code",
   "execution_count": 73,
   "id": "e2cad275-6c05-4a36-a265-92c615561a33",
   "metadata": {},
   "outputs": [
    {
     "name": "stdout",
     "output_type": "stream",
     "text": [
      "Ahmet Yılmaz için Haftalık Ödev 1 ödevi verildi. Not: 85\n",
      "Ayşe Kara için Haftalık Ödev 1 ödevi verildi. Not: 90\n",
      "Ahmet Yılmaz için Proje Ödevi ödevi verildi. Not: 75\n",
      "Öğrenciler:\n",
      "1. Ahmet Yılmaz\n",
      "2. Ayşe Kara\n",
      "\n",
      "Öğrenci Ödevleri:\n",
      "Ahmet Yılmaz Ödevleri:\n",
      "Haftalık Ödev 1: 85\n",
      "Proje Ödevi: 75\n",
      "Ayşe Kara Ödevleri:\n",
      "Haftalık Ödev 1: 90\n"
     ]
    }
   ],
   "source": [
    "class Course:\n",
    "    def __init__(self, course_name):\n",
    "        self.course_name = course_name\n",
    "        self.students = []\n",
    "\n",
    "    def add_student(self, first_name, last_name):\n",
    "        student = {\n",
    "            'first_name': first_name,\n",
    "            'last_name': last_name,\n",
    "            'assignments': {}\n",
    "        }\n",
    "        self.students.append(student)\n",
    "\n",
    "    def assign_homework(self, student_index, assignment_name, grade):\n",
    "        if student_index >= 0 and student_index < len(self.students):\n",
    "            student = self.students[student_index]\n",
    "            student['assignments'][assignment_name] = grade\n",
    "            print(f\"{student['first_name']} {student['last_name']} için {assignment_name} ödevi verildi. Not: {grade}\")\n",
    "\n",
    "    def list_students(self):\n",
    "        for idx, student in enumerate(self.students):\n",
    "            print(f\"{idx+1}. {student['first_name']} {student['last_name']}\")\n",
    "\n",
    "    def list_assignments(self, student_index):\n",
    "        if student_index >= 0 and student_index < len(self.students):\n",
    "            student = self.students[student_index]\n",
    "            print(f\"{student['first_name']} {student['last_name']} Ödevleri:\")\n",
    "            for assignment, grade in student['assignments'].items():\n",
    "                print(f\"{assignment}: {grade}\")\n",
    "\n",
    "# Ders oluşturalım\n",
    "python_course = Course(\"Python Programlama\")\n",
    "\n",
    "# Öğrencileri ekleyelim\n",
    "python_course.add_student(\"Ahmet\", \"Yılmaz\")\n",
    "python_course.add_student(\"Ayşe\", \"Kara\")\n",
    "\n",
    "# Ödevler verelim\n",
    "python_course.assign_homework(0, \"Haftalık Ödev 1\", 85)\n",
    "python_course.assign_homework(1, \"Haftalık Ödev 1\", 90)\n",
    "python_course.assign_homework(0, \"Proje Ödevi\", 75)\n",
    "\n",
    "# Öğrencileri listeleme\n",
    "print(\"Öğrenciler:\")\n",
    "python_course.list_students()\n",
    "\n",
    "# Öğrenci ödevlerini listeleme\n",
    "print(\"\\nÖğrenci Ödevleri:\")\n",
    "python_course.list_assignments(0)\n",
    "python_course.list_assignments(1)\n",
    "#Course sınıfı oluşturulmuş ve add_student, assign_homework, list_students, list_assignments gibi metodlar tanımlanmıştır.\n",
    "#add_student metoduyla dersin öğrencileri listesine yeni öğrenci eklenir.\n",
    "#assign_homework metoduyla belirli bir öğrenciye ödev verilir ve ödevin notu eklenir.\n",
    "#list_students metoduyla dersin öğrencileri listelenir.\n",
    "#list_assignments metoduyla belirli bir öğrencinin ödevleri listelenir."
   ]
  },
  {
   "cell_type": "code",
   "execution_count": 77,
   "id": "328fc01f-950e-40b4-9d71-e1af6f267a97",
   "metadata": {},
   "outputs": [
    {
     "name": "stdout",
     "output_type": "stream",
     "text": [
      "a miyavlıyor,bütün hayvanlar beslenirler\n",
      "penguen uçuyor,bütün hayvanlar beslenirler\n"
     ]
    }
   ],
   "source": [
    "class Animal:\n",
    "    def __init__(self,isim,yas,tur):\n",
    "        self.isim = isim\n",
    "        self.yas = yas\n",
    "        self.tur = tur\n",
    "\n",
    "\n",
    "    def beslenme(self):\n",
    "        return(\"bütün hayvanlar beslenirler\")\n",
    "class Kedigiller(Animal):\n",
    "    \n",
    "   def speak(self):\n",
    "       return(\"miyavlıyor\")\n",
    "   \n",
    "class kanatlı(Animal):\n",
    "\n",
    "    def fly(self):\n",
    "        return(\"uçuyor\")\n",
    "\n",
    "kedi1  = Kedigiller(\"a\",\"b\",\"c\")\n",
    "hayvan2 = kanatlı(\"penguen\",2,\"kanatlı\")\n",
    "\n",
    "print(kedi1.isim,f\"{kedi1.speak()},{kedi1.beslenme()}\")\n",
    "print(hayvan2.isim,f\"{hayvan2.fly()},{hayvan2.beslenme()}\")\n",
    "\n",
    "class surungen(Animal):\n",
    "\n",
    "    def __init__(self, isim, yas, tur,boyu):\n",
    "        super().__init__(isim, yas, tur)    \n",
    "        self.boyu = boyu\n",
    "\n",
    "\n"
   ]
  },
  {
   "cell_type": "code",
   "execution_count": 142,
   "id": "7f7c721c-78ce-424a-b138-8be4399c8faa",
   "metadata": {},
   "outputs": [],
   "source": [
    "#kütüphane yönetim sistemi\n",
    "\n",
    "class book:\n",
    "    def __init__(self,title,author):\n",
    "        self.title = title\n",
    "        self.author = author\n",
    "        self.available = True\n",
    "\n",
    "    def display_info(self):\n",
    "        status = \"Available\" if self.available else \"Not Available\"\n",
    "        print(f\"Title: {self.title}, Author: {self.author}, Status: {status}\")\n",
    "\n",
    "\n",
    "    def borrowBook(self):\n",
    "        if self.available:\n",
    "            self.available = false\n",
    "            print(f\"{self.title} bırakıldı\")\n",
    "        else:\n",
    "            print(f\"{self.title} yok\")\n"
   ]
  },
  {
   "cell_type": "code",
   "execution_count": 144,
   "id": "f9ef8033-77f1-41ca-9127-24dc047db81c",
   "metadata": {},
   "outputs": [],
   "source": [
    "class KurguKitap(book):\n",
    "   def __init__(self, title, author, genre):\n",
    "        super().__init__(title, author)\n",
    "        self.genre = genre\n",
    "       \n",
    "    "
   ]
  },
  {
   "cell_type": "code",
   "execution_count": 146,
   "id": "539bbdd5-cc84-4dee-8fef-320f96349e02",
   "metadata": {},
   "outputs": [],
   "source": [
    "class KurguOlmayan(book):\n",
    "     def __init__(self, title, author, subject):\n",
    "        super().__init__(title, author)\n",
    "        self.subject = subject"
   ]
  },
  {
   "cell_type": "code",
   "execution_count": 148,
   "id": "fe59727d-4ad4-4cea-9133-c0ec38bc9308",
   "metadata": {},
   "outputs": [],
   "source": [
    "class Library:\n",
    "    def __init__(self):\n",
    "        self.books = []\n",
    "    def addBook(self,book):\n",
    "        self.books.append(book)\n",
    "        print(f\"{book.title} eklendi\")\n",
    "\n",
    "    def remove_book(self, book):\n",
    "        if book in self.books:\n",
    "            self.books.remove(book)\n",
    "            print(f\"{book.title} has been removed from the library.\")\n",
    "        else:\n",
    "            print(f\"{book.title} is not found in the library.\")\n",
    "        \n",
    "    def list_books(self):\n",
    "        print(\"Listing all books in the library:\")\n",
    "        for book in self.books:\n",
    "            book.display_info()\n",
    "\n",
    "    def find_book_by_title(self, title):\n",
    "        for book in self.books:\n",
    "            if book.title == title:\n",
    "                book.display_info()\n",
    "                return\n",
    "        print(f\"No book with the title {title} found.\")\n",
    "\n",
    "    def find_book_by_author(self, author):\n",
    "        print(f\"Listing books by author {author}:\")\n",
    "        for book in self.books:\n",
    "            if book.author == author:\n",
    "                book.display_info()"
   ]
  },
  {
   "cell_type": "code",
   "execution_count": 150,
   "id": "6919c6d8-d2e3-48e0-89fc-46727491ea42",
   "metadata": {},
   "outputs": [
    {
     "name": "stdout",
     "output_type": "stream",
     "text": [
      "The Great Gatsby eklendi\n",
      "Sapiens eklendi\n",
      "Listing all books in the library:\n",
      "Title: The Great Gatsby, Author: F. Scott Fitzgerald, Status: Available\n",
      "Title: Sapiens, Author: Yuval Noah Harari, Status: Available\n"
     ]
    },
    {
     "ename": "AttributeError",
     "evalue": "'KurguKitap' object has no attribute 'borrow_book'",
     "output_type": "error",
     "traceback": [
      "\u001b[1;31m---------------------------------------------------------------------------\u001b[0m",
      "\u001b[1;31mAttributeError\u001b[0m                            Traceback (most recent call last)",
      "Cell \u001b[1;32mIn[150], line 16\u001b[0m\n\u001b[0;32m     13\u001b[0m library\u001b[38;5;241m.\u001b[39mlist_books()\n\u001b[0;32m     15\u001b[0m \u001b[38;5;66;03m# Kitap ödünç alma ve geri getirme\u001b[39;00m\n\u001b[1;32m---> 16\u001b[0m book1\u001b[38;5;241m.\u001b[39mborrow_book()\n\u001b[0;32m     17\u001b[0m library\u001b[38;5;241m.\u001b[39mlist_books()\n\u001b[0;32m     18\u001b[0m book1\u001b[38;5;241m.\u001b[39mreturn_book()\n",
      "\u001b[1;31mAttributeError\u001b[0m: 'KurguKitap' object has no attribute 'borrow_book'"
     ]
    }
   ],
   "source": [
    "\n",
    "# Örnek kullanım\n",
    "library = Library()\n",
    "\n",
    "# Kitapları oluşturma\n",
    "book1 = KurguKitap(\"The Great Gatsby\", \"F. Scott Fitzgerald\", \"Novel\")\n",
    "book2 = KurguOlmayan(\"Sapiens\", \"Yuval Noah Harari\", \"History\")\n",
    "\n",
    "# Kütüphaneye kitap ekleme\n",
    "library.addBook(book1)\n",
    "library.addBook(book2)\n",
    "\n",
    "# Kitapları listeleme\n",
    "library.list_books()\n",
    "\n",
    "# Kitap ödünç alma ve geri getirme\n",
    "book1.borrow_book()\n",
    "library.list_books()\n",
    "book1.return_book()\n",
    "library.list_books()\n",
    "\n",
    "# Kitap arama\n",
    "library.find_book_by_title(\"Sapiens\")\n",
    "library.find_book_by_author(\"F. Scott Fitzgerald\")"
   ]
  },
  {
   "cell_type": "code",
   "execution_count": null,
   "id": "ac1ec66f-5724-40e4-a2d4-00d314dc4427",
   "metadata": {},
   "outputs": [],
   "source": []
  }
 ],
 "metadata": {
  "kernelspec": {
   "display_name": "Python 3 (ipykernel)",
   "language": "python",
   "name": "python3"
  },
  "language_info": {
   "codemirror_mode": {
    "name": "ipython",
    "version": 3
   },
   "file_extension": ".py",
   "mimetype": "text/x-python",
   "name": "python",
   "nbconvert_exporter": "python",
   "pygments_lexer": "ipython3",
   "version": "3.12.4"
  }
 },
 "nbformat": 4,
 "nbformat_minor": 5
}
